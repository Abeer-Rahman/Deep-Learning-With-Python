{
  "cells": [
    {
      "cell_type": "markdown",
      "metadata": {
        "id": "view-in-github",
        "colab_type": "text"
      },
      "source": [
        "<a href=\"https://colab.research.google.com/github/Abeer-Rahman/Deep-Learning-With-Python/blob/main/Copy_of_chapter02_mathematical_building_blocks_i.ipynb\" target=\"_parent\"><img src=\"https://colab.research.google.com/assets/colab-badge.svg\" alt=\"Open In Colab\"/></a>"
      ]
    },
    {
      "cell_type": "markdown",
      "metadata": {
        "id": "_Thqcrj29FgD"
      },
      "source": [
        "This is a companion notebook for the book [Deep Learning with Python, Second Edition](https://www.manning.com/books/deep-learning-with-python-second-edition?a_aid=keras&a_bid=76564dff). For readability, it only contains runnable code blocks and section titles, and omits everything else in the book: text paragraphs, figures, and pseudocode.\n",
        "\n",
        "**If you want to be able to follow what's going on, I recommend reading the notebook side by side with your copy of the book.**\n",
        "\n",
        "This notebook was generated for TensorFlow 2.6."
      ]
    },
    {
      "cell_type": "markdown",
      "metadata": {
        "id": "USEN1SPA9FgH"
      },
      "source": [
        "# The mathematical building blocks of neural networks"
      ]
    },
    {
      "cell_type": "markdown",
      "metadata": {
        "id": "f_WnhKL19FgH"
      },
      "source": [
        "## A first look at a neural network\n",
        "In deep learning layered representations are learned via neural networks.The problem we’re trying to solve here is to classify grayscale images of handwritten digits (28 × 28 pixels) into their 10 categories (0 through 9)\n",
        "\n",
        "To achieve this we will go throght following steps:\n",
        "1.Load the MNIST dataset in Keras\n",
        "2.Build the network architecture\n",
        "3,The compilation step\n",
        "4.Preparing the image data\n",
        "5.“Fitting” the model\n",
        "6.Using the model to make predictions\n",
        "7.Evaluating the model on new data"
      ]
    },
    {
      "cell_type": "markdown",
      "source": [
        "MNIST dataset is preloaded in Keras in the form of a 4 sets of Numpy arrays\n",
        "\n",
        "**Tensorflow**:\n",
        "1. An open source platform developed by google for ML and DL\n",
        "2. It provides a comprehensive, flexible ecosystem of tools, libraries\n",
        "3. Supports various ML and DL algorithms and models\n",
        "\n",
        "4. Being open-source allows anyone to use and contribute to TensorFlow's development. It also supports various programming languages like Python, C++, and JavaScript, offering flexibility for developers.\n",
        "\n",
        "**Keras**:\n",
        "\n",
        "1. Keras is a high-level neural networks API(Application programe Interface, written in Python.API is like a handshaking protocol between two different software programmes to communicate with each other so that they can exchange data and functionality\n",
        "\n",
        " Analogy(Acts as a middleman):Imagine you're at a restaurant. You (the user) tell the waiter (the API) what you want (your request). The waiter relays that message to the kitchen (the other program), which then prepares your food (performs the action). Finally, the waiter brings you your food (the response).\n",
        "\n",
        " Example:Uber(Gemini)\n",
        "\n",
        "2. Back to Keras: Keras can use libraries like TensorFlow, Microsoft Cognitive Toolkit, R, Theano, or PlaidML as its backend to perform the actual computations needed for training and running neural networks\n",
        "\n",
        "3. Keras as a Frontend:Keras is a high-level API that simplifies building and training neural networks. When you write Keras code, you define the architecture of your neural network and specify how it should be trained, but you don't handle the low-level computations yourself. Instead, Keras translates your model and operations into backend-specific code.\n",
        "\n",
        "**Dataset**:\n",
        "\n",
        "A dataset refers to a collection of data instances which are used for training machine learning models. Datasets are typically split into training, validation, and test sets. TensorFlow provides various tools and libraries to work with datasets\n",
        "\n",
        "data instances (also referred to as samples, examples, or records) are individual pieces of data that are part of a dataset. Each data instance typically consists of multiple attributes (features) and may include a label (target value) if it is part of a supervised learning problem.\n",
        "\n",
        "\n",
        "\n",
        "![image.png](data:image/png;base64,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)\n",
        "\n",
        "Data Instances: Each row (record) in this table is a data instance. For example, the first row represents a house with 3 bedrooms, 2000 square feet, located in a suburb, priced at 300,000.\n",
        "\n",
        "Features: Bedrooms, Square Footage, Location.\n",
        "\n",
        "Label: Price.\n",
        "\n",
        "\n",
        "**MNIST Database**: (Modified National Institute of Standards and Technology) is a large database of handwritten digits that is commonly used for training various image processing systems. The MNIST dataset contains 60,000 training images and 10,000 testing images, each of which is a 28x28 pixel grayscale image of a handwritten digit (0-9). It's a popular dataset for testing and comparing different machine learning algorithms.\n"
      ],
      "metadata": {
        "id": "hptM20v_9GrM"
      }
    },
    {
      "cell_type": "markdown",
      "metadata": {
        "id": "zsOC16FW9FgI"
      },
      "source": [
        "**Loading the MNIST dataset in Keras**"
      ]
    },
    {
      "cell_type": "code",
      "execution_count": null,
      "metadata": {
        "id": "vnSEHfge9FgI",
        "colab": {
          "base_uri": "https://localhost:8080/"
        },
        "outputId": "d45302c1-fbdb-49fc-a2ff-907ba29bc2e3"
      },
      "outputs": [
        {
          "output_type": "stream",
          "name": "stdout",
          "text": [
            "Downloading data from https://storage.googleapis.com/tensorflow/tf-keras-datasets/mnist.npz\n",
            "11490434/11490434 [==============================] - 0s 0us/step\n",
            "<class 'numpy.ndarray'>\n",
            "<class 'numpy.ndarray'>\n",
            "<class 'numpy.ndarray'>\n",
            "<class 'numpy.ndarray'>\n"
          ]
        }
      ],
      "source": [
        "#imports 'mnist' module from tensorflow.keras.datasets.\n",
        "#The mnist module provides function to load the MNIST dataset.\n",
        "from tensorflow.keras.datasets import mnist\n",
        "# loads the MNIST dataset and returns two tuples\n",
        "#elments of each tuple are Numpy arrays\n",
        "#train_images and train_labels form the training set, the data that the model will learn from.\n",
        "# The model will then be tested on the test set, test_images and test_label\n",
        "#print(type(mnist))\n",
        "(train_images, train_labels), (test_images, test_labels) = mnist.load_data()\n",
        "for i in [train_images,train_labels,test_images,test_labels]:\n",
        "  print(type(i))"
      ]
    },
    {
      "cell_type": "markdown",
      "source": [],
      "metadata": {
        "id": "y04YYxJK9pRZ"
      }
    },
    {
      "cell_type": "code",
      "execution_count": null,
      "metadata": {
        "id": "WJJFSKeg9FgJ",
        "colab": {
          "base_uri": "https://localhost:8080/"
        },
        "outputId": "95af6d70-8818-4ff8-a9ab-fdf2c035878d"
      },
      "outputs": [
        {
          "output_type": "execute_result",
          "data": {
            "text/plain": [
              "(60000, 28, 28)"
            ]
          },
          "metadata": {},
          "execution_count": 2
        }
      ],
      "source": [
        "train_images.shape\n",
        "#6000 refers to numbers of images,28 is pixel height and weight"
      ]
    },
    {
      "cell_type": "code",
      "source": [
        "#self:for understanding dimension in shape\n",
        "import numpy as np\n",
        "\n",
        "arr = np.array([1, 2, 3, 4], ndmin=5)\n",
        "\n",
        "print(arr)\n",
        "print('shape of array :', arr.shape)"
      ],
      "metadata": {
        "colab": {
          "base_uri": "https://localhost:8080/"
        },
        "id": "vAhfXb55WPfi",
        "outputId": "52ac4650-ce47-481f-c855-1292f26f35d5"
      },
      "execution_count": null,
      "outputs": [
        {
          "output_type": "stream",
          "name": "stdout",
          "text": [
            "[[[[[1 2 3 4]]]]]\n",
            "shape of array : (1, 1, 1, 1, 4)\n"
          ]
        }
      ]
    },
    {
      "cell_type": "code",
      "execution_count": null,
      "metadata": {
        "id": "JpAbyDQI9FgJ",
        "colab": {
          "base_uri": "https://localhost:8080/"
        },
        "outputId": "7ded1e39-8fe1-4a1c-9b1d-d12963c8989d"
      },
      "outputs": [
        {
          "output_type": "execute_result",
          "data": {
            "text/plain": [
              "60000"
            ]
          },
          "metadata": {},
          "execution_count": 4
        }
      ],
      "source": [
        "len(train_labels)"
      ]
    },
    {
      "cell_type": "code",
      "execution_count": null,
      "metadata": {
        "id": "ceK7OJp19FgK",
        "colab": {
          "base_uri": "https://localhost:8080/"
        },
        "outputId": "ea76f11e-01cf-4b60-b426-60dae76ff63b"
      },
      "outputs": [
        {
          "output_type": "execute_result",
          "data": {
            "text/plain": [
              "array([5, 0, 4, ..., 5, 6, 8], dtype=uint8)"
            ]
          },
          "metadata": {},
          "execution_count": 5
        }
      ],
      "source": [
        "train_labels"
      ]
    },
    {
      "cell_type": "code",
      "source": [
        "train_labels.shape\n",
        "#retrns the singleton tuple,dimension of array"
      ],
      "metadata": {
        "colab": {
          "base_uri": "https://localhost:8080/"
        },
        "id": "zDtt23CMXxo4",
        "outputId": "587b07da-b8da-44d2-cf05-066c52c80d6a"
      },
      "execution_count": null,
      "outputs": [
        {
          "output_type": "execute_result",
          "data": {
            "text/plain": [
              "(60000,)"
            ]
          },
          "metadata": {},
          "execution_count": 6
        }
      ]
    },
    {
      "cell_type": "code",
      "execution_count": null,
      "metadata": {
        "id": "K-BD24a29FgK",
        "colab": {
          "base_uri": "https://localhost:8080/"
        },
        "outputId": "68a1a4e9-0839-4b5f-895b-d253e013f68b"
      },
      "outputs": [
        {
          "output_type": "execute_result",
          "data": {
            "text/plain": [
              "(10000, 28, 28)"
            ]
          },
          "metadata": {},
          "execution_count": 7
        }
      ],
      "source": [
        "test_images.shape"
      ]
    },
    {
      "cell_type": "code",
      "execution_count": null,
      "metadata": {
        "id": "nBZy9TyG9FgL",
        "colab": {
          "base_uri": "https://localhost:8080/"
        },
        "outputId": "eb9bf3cd-b98c-4fc3-fae7-494471c9f4f0"
      },
      "outputs": [
        {
          "output_type": "execute_result",
          "data": {
            "text/plain": [
              "10000"
            ]
          },
          "metadata": {},
          "execution_count": 8
        }
      ],
      "source": [
        "len(test_labels)"
      ]
    },
    {
      "cell_type": "code",
      "execution_count": null,
      "metadata": {
        "id": "RKaumtVB9FgL",
        "colab": {
          "base_uri": "https://localhost:8080/"
        },
        "outputId": "29fbb99e-2725-45b0-9a37-4d98e89466fa"
      },
      "outputs": [
        {
          "output_type": "execute_result",
          "data": {
            "text/plain": [
              "array([7, 2, 1, ..., 4, 5, 6], dtype=uint8)"
            ]
          },
          "metadata": {},
          "execution_count": 9
        }
      ],
      "source": [
        "test_labels"
      ]
    },
    {
      "cell_type": "markdown",
      "metadata": {
        "id": "kj__64fp9FgL"
      },
      "source": [
        "#The network architecture\n",
        "\n",
        "**Book**:\n",
        "\n",
        "The core building block of neural networks is the layer.Building network architecture means to make model by adding layers. You can think of a layer as a filter for data: some data goes in, and it comes out in a more useful form. Specifically, layers extract representations out of the data fed into them—hopefully, representations that are more meaningful for the problem at hand.\n",
        "\n",
        "**Gemini:**\n",
        "\n",
        "##import the core Keras module from TensorFlow.\n",
        "`from tensorflow import keras`\n",
        "##import the layers submodule from Keras,\n",
        "from tensorflow.keras import layers\n",
        "##with these layers we will build our model\n",
        "\n",
        "If we look at the schematic of the model then the output of one layer\n",
        "will be the input of the next layer,so we need a linear stack of layers.\n",
        "Sequential models are ideal for building models with a linear stack of layers.\n",
        "\n",
        "```\n",
        "model = keras.Sequential([\n",
        "\n",
        "    layers.Dense(512, activation=\"relu\"),\n",
        "    layers.Dense(10, activation=\"softmax\")\n",
        "])\n",
        "\n",
        "```\n",
        "\n",
        "\n",
        "\n",
        "\n",
        "\n",
        "##Now that we have decided our model,we need to add layers\n",
        "\n",
        "1.model.add(layers.Dense(512, activation=\"relu\"))adds the first\n",
        " layer to the model.\n",
        "\n",
        "\n",
        "Dense layer: This is a fully-connected layer, meaning all neurons in the layer\n",
        "are connected to all neurons in the previous layer.\n",
        "\n",
        "512 units: This specifies the number of neurons in the layer.\n",
        "Each neuron processes a portion of the data and contributes to the layer's output.\n",
        "\n",
        "\"relu\" activation: This defines the activation function applied to the output of\n",
        " each neuron. The \"relu\" (rectified linear unit) function introduces non-linearity\n",
        " into the model, allowing it to learn complex patterns.\n",
        "\n",
        "2.model.add(layers.Dense(10, activation=\"softmax\")): This line adds the second\n",
        " (and final) layer to the model. It's also a Dense layer, but with 10 units and\n",
        " uses the \"softmax\" activation function.\n",
        "\n",
        "The second (and last) layer is a 10-way softmax classification layer, which means\n",
        "it will return an array of 10 probability scores (summing to 1). Each score will\n",
        "be the probability that the current digit image belongs to one of our\n",
        "10 digit classes\n",
        "\n",
        "Overall, this code defines a simple neural network with two hidden layers. The\n",
        "first layer with 512 units could be considered a feature extractor, transforming\n",
        "the input data into a higher-dimensional representation. The second layer with\n",
        "10 units and the softmax activation suggests the model is intended for\n",
        "a classification task with 10 possible classes.\n",
        "\n",
        "**Activation function**\n",
        "\n",
        "A crucial component in artificial neural networks, responsible for introducing non-linearity into the model.\n",
        "\n",
        "This non-linearity enables the network to learn and model complex relationships in the data, going beyond simple linear transformations. Here's a detailed look at activation functions:\n",
        "\n",
        "Why Use Activation Functions?\n",
        "\n",
        "Introduce Non-linearity: Activation functions enable the network to capture complex patterns by introducing non-linear transformations.\n",
        "\n",
        "Control Output: They control the output range of neurons, which can be beneficial for certain types of layers (e.g., softmax for probabilistic outputs).\n",
        "\n",
        "\n",
        "Backpropagation: They provide gradients needed for the backpropagation algorithm, allowing the network to learn via gradient descent.\n",
        "\n",
        "Choosing the Right Activation Function\n",
        "The choice of activation function can significantly impact the performance of a neural network. Here are some guidelines:\n",
        "\n",
        "Hidden Layers: ReLU and its variants (Leaky ReLU, PReLU, ELU) are commonly used due to their efficiency and ability to mitigate the vanishing gradient problem.\n",
        "\n",
        "Output Layer:\n",
        "\n",
        "-Binary Classification: Sigmoid\n",
        "\n",
        "-Multi-class Classification: Softmax\n",
        "\n",
        "-Regression: Linear activation (or no activation)\n",
        "\n",
        "\n",
        "\n",
        "\n",
        "\n"
      ]
    },
    {
      "cell_type": "code",
      "source": [
        "from tensorflow import keras\n",
        "from keras import layers\n",
        "model = keras.Sequential([\n",
        "\n",
        "    layers.Dense(512, activation=\"relu\"),\n",
        "    layers.Dense(10, activation=\"softmax\")\n",
        "])"
      ],
      "metadata": {
        "id": "O3nM87T-5AVb"
      },
      "execution_count": null,
      "outputs": []
    },
    {
      "cell_type": "markdown",
      "metadata": {
        "id": "ur-tKsiV9FgL"
      },
      "source": [
        "#The compilation step\n",
        "\n",
        "To make the model ready for training, we need to pick three more things as part of the compilation step:\n",
        "\n",
        "1. An optimizer—The mechanism through which the model will update itself based on the training data it sees, so as to improve its performance.\n",
        "\n",
        "2. A loss function—How the model will be able to measure its performance on the training data, and thus how it will be able to steer itself in the right direction.\n",
        "\n",
        "3. Metrics to monitor during training and testing—Here, we’ll only care about accuracy (the fraction of the images that were correctly classified).\n",
        "\n",
        "\n",
        "**Breaking down code:**\n",
        "\n",
        "```\n",
        "model.compile(...)\n",
        "```\n",
        "\n",
        "compile method configures the model for training by specifying several parameters.\n",
        "\n",
        "1. optimizer=\"rmsprop\":\n",
        "\n",
        "This sets the optimization algorithm used to update the model's internal weights during training. In this case, the optimizer is \"rmsprop,\" which is a variant of stochastic gradient descent (SGD) that can improve upon the convergence of SGD in some cases.\n",
        "\n",
        "\n",
        "This specifies the optimizer to be used during training. RMSprop (Root Mean Square Propagation) is an adaptive learning rate method that adjusts the learning rate based on the average of recent magnitudes of the gradients for the weights.\n",
        "\n",
        "\n",
        "SGD: It's a widely used optimization algorithm in machine learning, particularly for training models like neural networks.It is an iterative method for minimizing an objective function, which is typically the loss function in the context of neural networks.\n",
        "\n",
        "Here's a breakdown of how it works:\n",
        "\n",
        "In the context of machine learning and optimization, a gradient is a vector that represents the direction and rate of fastest increase of a scalar function. The concept is central to the training of models using algorithms like gradient descent.\n",
        "\n",
        "**Mathematical Definition**:\n",
        "For a scalar function $f(\\mathbf{x})$ where\n",
        "x is a vector of variables, the gradient is a vector of partial derivatives of  f with respect to each variable in x\n",
        "\n",
        "if $\\mathbf{x}$=($x_{1}$,$x_{2}$,$x_{3}$,....,$x_{n}$), then the gradient of $f$ is given by:\n",
        "\n",
        "$\\nabla f(x) = \\left( \\frac{\\partial f}{\\partial x_1}, \\frac{\\partial f}{\\partial x_2}, ..., \\frac{\\partial f}{\\partial x_n} \\right)$\n",
        "\n",
        "Each component of the gradient vector indicates the rate of change of the function with respect to one of the variables.\n",
        "\n",
        "**Gradient in Machine Learning**:\n",
        "\n",
        "In the context of machine learning, gradients are used to minimize the loss function during the training of models. The loss function\n",
        "$L(\\theta)$ measures how well the model's predictions match the actual target values, and $\\theta$ represents the model's parameters.\n",
        "\n",
        "The goal of training is to find the parameter values that minimize the loss function. This is typically done using optimization algorithms like gradient descent, which rely on the gradient of the loss function with respect to the parameters. The gradient indicates how to change the parameters to reduce the loss function.\n",
        "\n",
        "**Gradient Descent**:\n",
        "\n",
        "Gradient descent is an iterative optimization algorithm used to minimize a function\n",
        "\n",
        "At each iteration, the algorithm updates the parameters in the direction opposite to the gradient of the loss function.\n",
        "\n",
        "This is because the gradient points in the direction of the steepest increase, so moving in the opposite direction reduces the function value.\n",
        "\n",
        "The parameter update rule for gradient descent is:\n",
        "\n",
        "$\\theta_{t+1} = \\theta_t - \\eta \\nabla_{\\theta} L(\\theta_t)$\n",
        "\n",
        "where,\n",
        "$\\theta_{t}$ =  parameters at iteration t\n",
        "\n",
        "$\\eta$= learning rate, a small positive number that controls the step size of the update\n",
        "\n",
        "$\\nabla_{θ}L(\\theta_{t})$ =  gradient of the loss function with respect to the parameters at iteration t\n",
        "\n",
        "**Stochastic Gradient Descent (SGD)**:\n",
        "\n",
        "In contrast to standard gradient descent, which computes the gradient using the entire dataset, SGD updates the parameters for each training example one at a time. This introduces noise into the optimization process, which can help escape local minima and find better overall solutions.\n",
        "\n",
        "The update rule for SGD is:\n",
        "\n",
        "\n",
        "$\\theta_{t+1} = \\theta_t - \\eta \\nabla_{\\theta} L(\\theta_t;x_{i},y_{i})$\n",
        "\n",
        "$(x_{i},y_{i})$ is a single training example\n",
        "\n",
        "\n",
        "\n",
        "\n"
      ]
    },
    {
      "cell_type": "code",
      "execution_count": null,
      "metadata": {
        "id": "BTmZqeFW9FgM"
      },
      "outputs": [],
      "source": [
        "model.compile(optimizer=\"rmsprop\",\n",
        "              loss=\"sparse_categorical_crossentropy\",\n",
        "              metrics=[\"accuracy\"])"
      ]
    },
    {
      "cell_type": "markdown",
      "metadata": {
        "id": "ubiCdS5b9FgM"
      },
      "source": [
        "#**Preparing the image data**\n",
        "we’ll preprocess the data by reshaping it into the shape the model expects and scaling it so that all values are in the [0, 1] interval\n",
        "\n",
        "our training images were stored in an array of shape (60000, 28, 28) of type uint8 with values in the [0, 255] interval.\n",
        "\n",
        "The images are initially in a 3D array of shape **(num_images, height, width)**\n",
        "\n",
        "Reshape each image into a 1D array of size 784 (28*28), whcih results in 2D array of shape ** (num_images,784)**\n",
        "\n"
      ]
    },
    {
      "cell_type": "code",
      "execution_count": null,
      "metadata": {
        "id": "3h_qc51c9FgM",
        "colab": {
          "base_uri": "https://localhost:8080/"
        },
        "outputId": "b4594583-f96c-4175-c9b5-aa7aa6c21b73"
      },
      "outputs": [
        {
          "output_type": "stream",
          "name": "stdout",
          "text": [
            "[[0 0 0 ... 0 0 0]\n",
            " [0 0 0 ... 0 0 0]\n",
            " [0 0 0 ... 0 0 0]\n",
            " ...\n",
            " [0 0 0 ... 0 0 0]\n",
            " [0 0 0 ... 0 0 0]\n",
            " [0 0 0 ... 0 0 0]]\n",
            "(60000, 784)\n"
          ]
        }
      ],
      "source": [
        "# reshaping each image\n",
        "train_images = train_images.reshape((60000, 28 * 28))\n",
        "print(train_images)\n",
        "print(train_images.shape)\n",
        "#Normalizing the pixel values\n",
        "train_images = train_images.astype(\"float32\") / 255\n",
        "# print(train_images)\n",
        "# print(train_images.shape)\n",
        "test_images = test_images.reshape((10000, 28 * 28))\n",
        "test_images = test_images.astype(\"float32\") / 255"
      ]
    },
    {
      "cell_type": "markdown",
      "source": [
        "#July 25,2024"
      ],
      "metadata": {
        "id": "ZQHAaGH_olZq"
      }
    },
    {
      "cell_type": "markdown",
      "metadata": {
        "id": "LxFveleG9FgM"
      },
      "source": [
        "**\"Fitting\" the model**"
      ]
    },
    {
      "cell_type": "code",
      "execution_count": null,
      "metadata": {
        "id": "7eWw07JL9FgM",
        "colab": {
          "base_uri": "https://localhost:8080/",
          "height": 237
        },
        "outputId": "0a29ebe4-e4d2-42a7-82a9-2750dba6f1eb"
      },
      "outputs": [
        {
          "output_type": "stream",
          "name": "stdout",
          "text": [
            "Epoch 1/5\n",
            "469/469 [==============================] - 8s 8ms/step - loss: 0.2667 - accuracy: 0.9227\n",
            "Epoch 2/5\n",
            "469/469 [==============================] - 2s 4ms/step - loss: 0.1087 - accuracy: 0.9681\n",
            "Epoch 3/5\n",
            "469/469 [==============================] - 2s 3ms/step - loss: 0.0708 - accuracy: 0.9790\n",
            "Epoch 4/5\n",
            "469/469 [==============================] - 2s 3ms/step - loss: 0.0521 - accuracy: 0.9840\n",
            "Epoch 5/5\n",
            "469/469 [==============================] - 2s 3ms/step - loss: 0.0391 - accuracy: 0.9882\n"
          ]
        },
        {
          "output_type": "execute_result",
          "data": {
            "text/plain": [
              "\"\\nepochs=5: no. of times the model will iterate over the entire training dataset\\nbatch size=128:no. of samples per gradient update, model will process 128 samples before updating the model's parameters\\n#quantities displayed: loss of the model over the training and accuracy\\n\""
            ],
            "application/vnd.google.colaboratory.intrinsic+json": {
              "type": "string"
            }
          },
          "metadata": {},
          "execution_count": 14
        }
      ],
      "source": [
        "#fit method used to train the model\n",
        "model.fit(train_images, train_labels, epochs=5, batch_size=128)\n",
        "\n",
        "\n",
        "\"\"\"\n",
        "epochs=5: no. of times the model will iterate over the entire training dataset\n",
        "batch size=128:no. of samples per gradient update, model will process 128 samples before updating the model's parameters\n",
        "#quantities displayed: loss of the model over the training and accuracy\n",
        "\"\"\""
      ]
    },
    {
      "cell_type": "markdown",
      "metadata": {
        "id": "5imyOCLS9FgM"
      },
      "source": [
        "**Using the model to make predictions**\n",
        "\n",
        "Model has been trained with  98.91% accuracy. Now we can it to predict class probabilities for new digits(images not part of training data)\n"
      ]
    },
    {
      "cell_type": "code",
      "execution_count": null,
      "metadata": {
        "id": "AEbJK4ud9FgM",
        "colab": {
          "base_uri": "https://localhost:8080/"
        },
        "outputId": "01bf381a-49c0-4a5b-e991-6275f1209cc8"
      },
      "outputs": [
        {
          "output_type": "stream",
          "name": "stdout",
          "text": [
            "1/1 [==============================] - 0s 71ms/step\n"
          ]
        },
        {
          "output_type": "execute_result",
          "data": {
            "text/plain": [
              "array([7.0398158e-08, 3.1678410e-10, 5.5741066e-06, 9.8607517e-05,\n",
              "       1.9816375e-12, 4.2572108e-08, 2.1058806e-12, 9.9989533e-01,\n",
              "       4.1608136e-08, 3.6794086e-07], dtype=float32)"
            ]
          },
          "metadata": {},
          "execution_count": 14
        }
      ],
      "source": [
        "test_digits = test_images[0:10]\n",
        "# print(type(test_digits))\n",
        "# print(test_digits)\n",
        "predictions = model.predict(test_digits)\n",
        "predictions[0]"
      ]
    },
    {
      "cell_type": "code",
      "execution_count": null,
      "metadata": {
        "id": "2tULER8F9FgM",
        "colab": {
          "base_uri": "https://localhost:8080/"
        },
        "outputId": "c93bd59b-8649-494a-c3dd-444ccc5114be"
      },
      "outputs": [
        {
          "output_type": "execute_result",
          "data": {
            "text/plain": [
              "7"
            ]
          },
          "metadata": {},
          "execution_count": 15
        }
      ],
      "source": [
        "predictions[0].argmax()"
      ]
    },
    {
      "cell_type": "code",
      "execution_count": null,
      "metadata": {
        "id": "S-b5B37H9FgN",
        "colab": {
          "base_uri": "https://localhost:8080/"
        },
        "outputId": "c937122a-3c6a-4bea-ceae-452962427f70"
      },
      "outputs": [
        {
          "output_type": "execute_result",
          "data": {
            "text/plain": [
              "0.99989533"
            ]
          },
          "metadata": {},
          "execution_count": 16
        }
      ],
      "source": [
        "predictions[0][7]"
      ]
    },
    {
      "cell_type": "code",
      "execution_count": null,
      "metadata": {
        "id": "xVQmir3G9FgN",
        "colab": {
          "base_uri": "https://localhost:8080/"
        },
        "outputId": "60c30f06-9bb5-468f-e363-ea42cac6278d"
      },
      "outputs": [
        {
          "output_type": "execute_result",
          "data": {
            "text/plain": [
              "7"
            ]
          },
          "metadata": {},
          "execution_count": 17
        }
      ],
      "source": [
        "test_labels[0]"
      ]
    },
    {
      "cell_type": "markdown",
      "metadata": {
        "id": "0YWmMJuL9FgN"
      },
      "source": [
        "**Evaluating the model on new data**\n",
        "\n",
        "computing average accuracy over the entire test set"
      ]
    },
    {
      "cell_type": "code",
      "execution_count": null,
      "metadata": {
        "id": "BMHdX3k19FgN",
        "colab": {
          "base_uri": "https://localhost:8080/"
        },
        "outputId": "2b7d63dc-8104-4a0f-d994-66594d1db421"
      },
      "outputs": [
        {
          "output_type": "stream",
          "name": "stdout",
          "text": [
            "313/313 [==============================] - 1s 2ms/step - loss: 0.0672 - accuracy: 0.9786\n",
            "test_acc: 0.978600025177002\n"
          ]
        }
      ],
      "source": [
        "test_loss, test_acc = model.evaluate(test_images, test_labels)\n",
        "print(f\"test_acc: {test_acc}\")"
      ]
    },
    {
      "cell_type": "markdown",
      "source": [
        "The training accuracy is 0.99 and test accuracy is 0.97. The gap between these two are called overfitting"
      ],
      "metadata": {
        "id": "lnXfKsbWdMNR"
      }
    },
    {
      "cell_type": "markdown",
      "metadata": {
        "id": "l42JHll19FgN"
      },
      "source": [
        "## Data representations for neural networks\n",
        "\n",
        "* Data stored in multi-dimensional Numpy array(also known as tensor)\n",
        "* Tensor is a generalization of matrices with n-dim(axis)\n",
        "\n"
      ]
    },
    {
      "cell_type": "markdown",
      "metadata": {
        "id": "f1PjqiFj9FgN"
      },
      "source": [
        "### Scalars (rank-0 tensors)"
      ]
    },
    {
      "cell_type": "code",
      "execution_count": null,
      "metadata": {
        "id": "DAPB_sWw9FgN",
        "colab": {
          "base_uri": "https://localhost:8080/"
        },
        "outputId": "21f1de67-f167-47a1-9b38-505715869864"
      },
      "outputs": [
        {
          "output_type": "stream",
          "name": "stdout",
          "text": [
            "12\n"
          ]
        }
      ],
      "source": [
        "import numpy as np\n",
        "x = np.array(12)\n",
        "x\n",
        "print(x)"
      ]
    },
    {
      "cell_type": "code",
      "execution_count": null,
      "metadata": {
        "id": "_FX2RmIo9FgN",
        "colab": {
          "base_uri": "https://localhost:8080/"
        },
        "outputId": "b539b544-0f93-417e-deae-a539559177b8"
      },
      "outputs": [
        {
          "output_type": "execute_result",
          "data": {
            "text/plain": [
              "0"
            ]
          },
          "metadata": {},
          "execution_count": 20
        }
      ],
      "source": [
        "x.ndim"
      ]
    },
    {
      "cell_type": "markdown",
      "metadata": {
        "id": "u3XKU22m9FgN"
      },
      "source": [
        "### Vectors (rank-1 tensors)\n",
        "A tensor of rank 5 is a tensor with 5 axes\n",
        "Dimention:no. of entries along each axis"
      ]
    },
    {
      "cell_type": "code",
      "execution_count": null,
      "metadata": {
        "id": "P5p-MT419FgN",
        "colab": {
          "base_uri": "https://localhost:8080/"
        },
        "outputId": "a7398a67-615a-4bf1-91bf-c0fb8e392fba"
      },
      "outputs": [
        {
          "output_type": "execute_result",
          "data": {
            "text/plain": [
              "array([12,  3,  6, 14,  7])"
            ]
          },
          "metadata": {},
          "execution_count": 21
        }
      ],
      "source": [
        "x = np.array([12, 3, 6, 14, 7])\n",
        "#x is a 5D vector but is a tensor with rank 1\n",
        "x"
      ]
    },
    {
      "cell_type": "code",
      "execution_count": null,
      "metadata": {
        "id": "0YEPb-yZ9FgO",
        "colab": {
          "base_uri": "https://localhost:8080/"
        },
        "outputId": "f902a1f0-782c-4bc5-ee90-4a11961194cd"
      },
      "outputs": [
        {
          "output_type": "execute_result",
          "data": {
            "text/plain": [
              "1"
            ]
          },
          "metadata": {},
          "execution_count": 22
        }
      ],
      "source": [
        "x.ndim"
      ]
    },
    {
      "cell_type": "markdown",
      "metadata": {
        "id": "dhQ1Jee09FgO"
      },
      "source": [
        "### Matrices (rank-2 tensors)\n",
        "\n",
        "\n",
        "\n",
        "*   A tensor with 2 axes:row and column\n",
        "\n",
        "\n"
      ]
    },
    {
      "cell_type": "code",
      "execution_count": null,
      "metadata": {
        "id": "wo48666w9FgO",
        "colab": {
          "base_uri": "https://localhost:8080/"
        },
        "outputId": "6f491c5d-1d3f-4571-f2fd-bc11da7aec2d"
      },
      "outputs": [
        {
          "output_type": "stream",
          "name": "stdout",
          "text": [
            "2\n"
          ]
        }
      ],
      "source": [
        "x = np.array([[5, 78, 2, 34, 0],\n",
        "              [6, 79, 3, 35, 1],\n",
        "              [7, 80, 4, 36, 2]])\n",
        "x.ndim\n",
        "print(len(x.shape))"
      ]
    },
    {
      "cell_type": "markdown",
      "source": [],
      "metadata": {
        "id": "gO-0bxrmT4xr"
      }
    },
    {
      "cell_type": "markdown",
      "metadata": {
        "id": "5YuBU5vZ9FgO"
      },
      "source": [
        "### Rank-3 and higher-rank tensors\n",
        "It's like stacking a matrix in 3 layers"
      ]
    },
    {
      "cell_type": "code",
      "execution_count": null,
      "metadata": {
        "id": "h0r11td49FgO",
        "colab": {
          "base_uri": "https://localhost:8080/"
        },
        "outputId": "6d84cc13-4855-47e2-b2dd-8ae3b942ae95"
      },
      "outputs": [
        {
          "output_type": "stream",
          "name": "stdout",
          "text": [
            "3\n",
            "(3, 3, 5)\n",
            "3\n",
            "80\n",
            "45\n"
          ]
        }
      ],
      "source": [
        "x = np.array([[[5, 78, 2, 34, 0],\n",
        "               [6, 79, 3, 35, 1],\n",
        "               [7, 80, 4, 36, 2]],\n",
        "              [[5, 78, 2, 34, 0],\n",
        "               [6, 79, 3, 35, 1],\n",
        "               [7, 80, 4, 36, 2]],\n",
        "              [[5, 78, 2, 34, 0],\n",
        "               [6, 79, 3, 35, 1],\n",
        "               [7, 80, 4, 36, 2]]])\n",
        "#The numpy array has three layers and each layer has 3 rows and 5 columns\n",
        "print(x.ndim)\n",
        "print(x.shape) # (layer,row,column)\n",
        "print(len(x.shape))\n",
        "#accessing element [layer,row,colum],indexing starts with 0\n",
        "print(x[1,2,1])\n",
        "print(x.size) # layer x row x column"
      ]
    },
    {
      "cell_type": "markdown",
      "metadata": {
        "id": "_6aVuTrx9FgO"
      },
      "source": [
        "### Key attributes"
      ]
    },
    {
      "cell_type": "code",
      "execution_count": null,
      "metadata": {
        "id": "ESIFojmT9FgO"
      },
      "outputs": [],
      "source": [
        "from tensorflow.keras.datasets import mnist\n",
        "(train_images, train_labels), (test_images, test_labels) = mnist.load_data()"
      ]
    },
    {
      "cell_type": "code",
      "execution_count": null,
      "metadata": {
        "id": "RlGChjvc9FgT",
        "colab": {
          "base_uri": "https://localhost:8080/"
        },
        "outputId": "17497164-9a1a-4f36-8c4f-4c82ed950fb3"
      },
      "outputs": [
        {
          "output_type": "execute_result",
          "data": {
            "text/plain": [
              "3"
            ]
          },
          "metadata": {},
          "execution_count": 26
        }
      ],
      "source": [
        "train_images.ndim\n",
        "#rank-3 tensor"
      ]
    },
    {
      "cell_type": "code",
      "execution_count": null,
      "metadata": {
        "id": "XWU-vKIf9FgT",
        "colab": {
          "base_uri": "https://localhost:8080/"
        },
        "outputId": "dfcf0bb4-1eef-446b-f7e1-5de07f7dd79c"
      },
      "outputs": [
        {
          "output_type": "execute_result",
          "data": {
            "text/plain": [
              "(60000, 28, 28)"
            ]
          },
          "metadata": {},
          "execution_count": 27
        }
      ],
      "source": [
        "train_images.shape\n",
        "#60000 matrices of 28x28 integers (each has 28 rows and 28 columns)"
      ]
    },
    {
      "cell_type": "code",
      "execution_count": null,
      "metadata": {
        "id": "P-8Bq5q09FgT",
        "colab": {
          "base_uri": "https://localhost:8080/"
        },
        "outputId": "5a1e1bff-0938-444c-8e2c-5699a741d9aa"
      },
      "outputs": [
        {
          "output_type": "execute_result",
          "data": {
            "text/plain": [
              "dtype('uint8')"
            ]
          },
          "metadata": {},
          "execution_count": 28
        }
      ],
      "source": [
        "train_images.dtype\n",
        "#Each such matrix is a grayscale image, with coefficients between 0 and 255."
      ]
    },
    {
      "cell_type": "markdown",
      "metadata": {
        "id": "4DtEAM269FgT"
      },
      "source": [
        "**Displaying the fourth digit**"
      ]
    },
    {
      "cell_type": "code",
      "execution_count": null,
      "metadata": {
        "id": "mY2ThiTF9FgT",
        "colab": {
          "base_uri": "https://localhost:8080/",
          "height": 430
        },
        "outputId": "34d3981d-473e-490d-9afc-31673686214f"
      },
      "outputs": [
        {
          "output_type": "display_data",
          "data": {
            "text/plain": [
              "<Figure size 640x480 with 1 Axes>"
            ],
            "image/png": "[encoded data removed]"
          },
          "metadata": {}
        }
      ],
      "source": [
        "import matplotlib.pyplot as plt\n",
        "# print(train_images.shape)\n",
        "digit = train_images[4]\n",
        "# print(digit)\n",
        "#Each axis contains a digit, the matrix in the corresponding\n",
        "#axis is the grayscale of that digit\n",
        "plt.imshow(digit, cmap=plt.cm.binary)\n",
        "#colormap renders the image in black and white\n",
        "plt.show()"
      ]
    },
    {
      "cell_type": "code",
      "execution_count": null,
      "metadata": {
        "id": "5LmsAznr9FgT",
        "colab": {
          "base_uri": "https://localhost:8080/"
        },
        "outputId": "28722300-db17-4de8-c854-d35395384f3b"
      },
      "outputs": [
        {
          "output_type": "execute_result",
          "data": {
            "text/plain": [
              "9"
            ]
          },
          "metadata": {},
          "execution_count": 30
        }
      ],
      "source": [
        "train_labels[4]"
      ]
    },
    {
      "cell_type": "markdown",
      "metadata": {
        "id": "IugbtldY9FgT"
      },
      "source": [
        "### Manipulating tensors in NumPy"
      ]
    },
    {
      "cell_type": "code",
      "execution_count": null,
      "metadata": {
        "id": "MmiTJjKq9FgT",
        "colab": {
          "base_uri": "https://localhost:8080/"
        },
        "outputId": "e77c3c84-0d0e-4309-e7e7-8efe86195429"
      },
      "outputs": [
        {
          "output_type": "execute_result",
          "data": {
            "text/plain": [
              "(90, 28, 28)"
            ]
          },
          "metadata": {},
          "execution_count": 31
        }
      ],
      "source": [
        "my_slice = train_images[10:100]\n",
        "#select 90 digits and put them in an array\n",
        "#slicing along tensor axis all taking the whole matrix along that axis\n",
        "my_slice.shape"
      ]
    },
    {
      "cell_type": "code",
      "execution_count": null,
      "metadata": {
        "id": "Kw_NsiFb9FgU",
        "colab": {
          "base_uri": "https://localhost:8080/"
        },
        "outputId": "d43e3b67-f76a-4056-9eb3-f95e7a72a1e1"
      },
      "outputs": [
        {
          "output_type": "execute_result",
          "data": {
            "text/plain": [
              "(90, 28, 28)"
            ]
          },
          "metadata": {},
          "execution_count": 32
        }
      ],
      "source": [
        "#Equivalent to the previous\n",
        "my_slice = train_images[10:100, :, :]\n",
        "my_slice.shape"
      ]
    },
    {
      "cell_type": "code",
      "execution_count": null,
      "metadata": {
        "id": "DXQ9rtQM9FgU",
        "colab": {
          "base_uri": "https://localhost:8080/"
        },
        "outputId": "4bb11cc0-ce82-4ed9-c40f-21ee3a3586a6"
      },
      "outputs": [
        {
          "output_type": "execute_result",
          "data": {
            "text/plain": [
              "(90, 28, 28)"
            ]
          },
          "metadata": {},
          "execution_count": 33
        }
      ],
      "source": [
        "#Equivalent to the previous\n",
        "my_slice = train_images[10:100, 0:28, 0:28]\n",
        "my_slice.shape"
      ]
    },
    {
      "cell_type": "code",
      "execution_count": null,
      "metadata": {
        "id": "U0enV_l79FgU"
      },
      "outputs": [],
      "source": [
        "#Slicing pixels\n",
        "my_slice = train_images[:, 14:, 14:]"
      ]
    },
    {
      "cell_type": "code",
      "execution_count": null,
      "metadata": {
        "id": "v5qpfeD79FgU"
      },
      "outputs": [],
      "source": [
        "#slicing using negative index\n",
        "my_slice = train_images[:, 7:-7, 7:-7]"
      ]
    },
    {
      "cell_type": "markdown",
      "metadata": {
        "id": "RjZBjtpc9FgU"
      },
      "source": [
        "### The notion of data batches\n",
        "\n",
        "Instead of processing the entire data set at once, break it into small batches\n",
        "\n"
      ]
    },
    {
      "cell_type": "code",
      "execution_count": null,
      "metadata": {
        "id": "lXy8HPk49FgU"
      },
      "outputs": [],
      "source": [
        "batch = train_images[:128]\n"
      ]
    },
    {
      "cell_type": "code",
      "execution_count": null,
      "metadata": {
        "id": "leXXq72M9FgU"
      },
      "outputs": [],
      "source": [
        "batch = train_images[128:256]"
      ]
    },
    {
      "cell_type": "code",
      "execution_count": null,
      "metadata": {
        "id": "2ZdvV_089FgV"
      },
      "outputs": [],
      "source": [
        "n = 3\n",
        "batch = train_images[128 * n:128 * (n + 1)]"
      ]
    },
    {
      "cell_type": "markdown",
      "metadata": {
        "id": "Aq7lzc0o9FgV"
      },
      "source": [
        "### Real-world examples of data tensors\n",
        "\n",
        "Data will typically fall into following category:\n",
        "\n",
        "1.Vector Data:Rank-2 tensor(samples,feature);each sample is a vector of numerical attributes (“features”)\n",
        "\n",
        "2.Timeseries data or sequence data:Rank-3 tensor(samples, timesteps, features);each sample is a sequence of feature vectors\n",
        "\n",
        "3.Images: Rank-4 tensors(samples, height, width, channels); each sample is a 2D grid of pixels, and each pixel is represented by a vector of values (“channels”)\n",
        "\n",
        "4.Video: Rank-5 tensors (samples, frames, height, width, channels);each sample is a sequence of images"
      ]
    },
    {
      "cell_type": "markdown",
      "metadata": {
        "id": "foln76x29FgV"
      },
      "source": [
        "### Vector data"
      ]
    },
    {
      "cell_type": "markdown",
      "metadata": {
        "id": "6sXGj5mn9FgV"
      },
      "source": [
        "### Timeseries data or sequence data"
      ]
    },
    {
      "cell_type": "markdown",
      "metadata": {
        "id": "56n0FMLX9FgV"
      },
      "source": [
        "### Image data"
      ]
    },
    {
      "cell_type": "markdown",
      "metadata": {
        "id": "HfosP9-U9FgV"
      },
      "source": [
        "### Video data"
      ]
    },
    {
      "cell_type": "markdown",
      "metadata": {
        "id": "bDaDy9r89FgV"
      },
      "source": [
        "## The gears of neural networks: tensor operations"
      ]
    },
    {
      "cell_type": "markdown",
      "metadata": {
        "id": "odJ1_qhE9FgV"
      },
      "source": [
        "### Element-wise operations"
      ]
    },
    {
      "cell_type": "code",
      "execution_count": null,
      "metadata": {
        "id": "C5Hy82ah9FgW"
      },
      "outputs": [],
      "source": [
        "def naive_relu(x):\n",
        "    assert len(x.shape) == 2 # x is a rank-2 tensor,vector data,(row,column),x.ndim\n",
        "    x = x.copy() #avoids overwriting the input x\n",
        "    for i in range(x.shape[0]): # x.shape[0]=# of rows\n",
        "        for j in range(x.shape[1]):  # x.shape[1]=# of col\n",
        "            x[i, j] = max(x[i, j], 0)\n",
        "    return x # reutn zero for negative entries"
      ]
    },
    {
      "cell_type": "code",
      "source": [
        "# testing the naive_relu function with a rank-2 Tensor\n",
        "import numpy as np\n",
        "p = np.array([[5, 78, 2, 34, 0],\n",
        "              [6, 79, -4, 35, 1],\n",
        "              [7, -8, 4, 36, 2]])\n",
        "print(p.ndim)\n",
        "print(p.shape[0])\n",
        "print(len(p.shape))\n",
        "relu=naive_relu(p)\n",
        "print(relu)\n",
        "print(relu.ndim)\n",
        "print(relu.shape[0])\n",
        "print(relu)"
      ],
      "metadata": {
        "colab": {
          "base_uri": "https://localhost:8080/"
        },
        "id": "0Ua4QcCdYyiT",
        "outputId": "8d08d9e5-4b23-4382-8273-75e339359691"
      },
      "execution_count": null,
      "outputs": [
        {
          "output_type": "stream",
          "name": "stdout",
          "text": [
            "2\n",
            "3\n",
            "2\n",
            "[[ 5 78  2 34  0]\n",
            " [ 6 79  0 35  1]\n",
            " [ 7  0  4 36  2]]\n",
            "2\n",
            "3\n",
            "[[ 5 78  2 34  0]\n",
            " [ 6 79  0 35  1]\n",
            " [ 7  0  4 36  2]]\n"
          ]
        }
      ]
    },
    {
      "cell_type": "code",
      "execution_count": null,
      "metadata": {
        "id": "qBK1q3Z69FgW"
      },
      "outputs": [],
      "source": [
        "def naive_add(x, y):\n",
        "    assert len(x.shape) == 2\n",
        "    assert x.shape == y.shape\n",
        "    x = x.copy()\n",
        "    for i in range(x.shape[0]):\n",
        "        for j in range(x.shape[1]):\n",
        "            x[i, j] += y[i, j] #changing the elements of x\n",
        "    return x"
      ]
    },
    {
      "cell_type": "code",
      "execution_count": null,
      "metadata": {
        "id": "78a_8e5H9FgW",
        "colab": {
          "base_uri": "https://localhost:8080/"
        },
        "outputId": "1dbf4cb3-cbae-4110-e527-939254fd4752"
      },
      "outputs": [
        {
          "output_type": "stream",
          "name": "stdout",
          "text": [
            "<class 'numpy.ndarray'>\n",
            "(20, 100)\n",
            "(20, 100)\n",
            "<class 'float'>\n",
            "1719265828.755673\n",
            "Took: 0.01 s\n"
          ]
        }
      ],
      "source": [
        "#same thing but implemented with basic linear algebra subprogram\n",
        "import time\n",
        "\n",
        "x = np.random.random((20, 100))\n",
        "y = np.random.random((20, 100))\n",
        "print(type(x))\n",
        "print(x.shape)\n",
        "print(y.shape)\n",
        "t0 = time.time()\n",
        "print(type(t0))\n",
        "print(t0)\n",
        "\n",
        "for _ in range(1000):\n",
        "    z = x + y\n",
        "    z = np.maximum(z, 0.)\n",
        "print(\"Took: {0:.2f} s\".format(time.time() - t0))"
      ]
    },
    {
      "cell_type": "markdown",
      "metadata": {
        "id": "IIvjYEj39FgW"
      },
      "source": [
        "### Broadcasting\n",
        "When the dimension of the tensors do not match, broadcast the smaller one to the larger one\n"
      ]
    },
    {
      "cell_type": "code",
      "execution_count": null,
      "metadata": {
        "id": "JODDGw2g9FgX",
        "colab": {
          "base_uri": "https://localhost:8080/"
        },
        "outputId": "567d95af-b570-4a9f-d9c0-8ee5763fdc08"
      },
      "outputs": [
        {
          "output_type": "stream",
          "name": "stdout",
          "text": [
            "[[0.34293189 0.42106678 0.88124909 0.95907207 0.36844477 0.78113127\n",
            "  0.44365    0.96358136 0.04680296 0.77856411]\n",
            " [0.21205291 0.63529332 0.98307784 0.53195357 0.76823694 0.73910373\n",
            "  0.76698179 0.16151955 0.1202254  0.4775319 ]\n",
            " [0.17818162 0.34604909 0.92175215 0.03239149 0.34603549 0.98394874\n",
            "  0.25353842 0.02921829 0.5401548  0.56606877]\n",
            " [0.56180848 0.16243105 0.2889002  0.57634209 0.8033066  0.72228775\n",
            "  0.59024126 0.62549313 0.81573016 0.0644092 ]\n",
            " [0.55072744 0.1954428  0.58098205 0.82649526 0.51911415 0.46742773\n",
            "  0.03404158 0.77596773 0.39908367 0.18411511]\n",
            " [0.02640247 0.56963032 0.85482539 0.55230514 0.61004783 0.12826777\n",
            "  0.14442922 0.91603411 0.97931932 0.21649985]\n",
            " [0.50735164 0.82100298 0.89938255 0.34155523 0.55621242 0.80000879\n",
            "  0.20971864 0.11598025 0.71746665 0.74830067]\n",
            " [0.17429403 0.45745656 0.52108744 0.06765324 0.42404022 0.13688295\n",
            "  0.08707692 0.68497559 0.87646019 0.5368739 ]\n",
            " [0.47210922 0.65778162 0.2152368  0.32201344 0.79158169 0.01832796\n",
            "  0.6724799  0.53628932 0.02858458 0.44378904]\n",
            " [0.43230297 0.36970176 0.52504289 0.74376386 0.66425349 0.28740678\n",
            "  0.7234454  0.58542907 0.31404109 0.57247047]\n",
            " [0.92773037 0.09521552 0.61698529 0.14212472 0.68257637 0.34620149\n",
            "  0.60214299 0.08195497 0.68195509 0.82524739]\n",
            " [0.80706039 0.73569656 0.39251663 0.61396391 0.45254188 0.72580076\n",
            "  0.36104577 0.83217709 0.16384485 0.92541406]\n",
            " [0.94443764 0.36309055 0.3278703  0.61593273 0.24413403 0.08982235\n",
            "  0.3261966  0.22877871 0.82141014 0.82765066]\n",
            " [0.51590269 0.52567116 0.19797289 0.2451751  0.1800087  0.44305874\n",
            "  0.96127482 0.37246931 0.04239745 0.90372086]\n",
            " [0.90465389 0.180911   0.20890369 0.07420281 0.1044524  0.74543231\n",
            "  0.55951994 0.54706623 0.38999051 0.32193736]\n",
            " [0.30234945 0.61936054 0.87688371 0.03616767 0.35191211 0.02266486\n",
            "  0.61698812 0.11887869 0.04678028 0.21928354]\n",
            " [0.42096697 0.93132258 0.23221317 0.23056128 0.53404596 0.83077239\n",
            "  0.71268121 0.37742441 0.21346426 0.66043783]\n",
            " [0.97808363 0.77029148 0.88837716 0.42428186 0.87124979 0.11353761\n",
            "  0.81110063 0.70370241 0.50750247 0.09884143]\n",
            " [0.37323127 0.03617186 0.68692263 0.24781613 0.81619164 0.12890917\n",
            "  0.34324212 0.75342314 0.97566131 0.80829201]\n",
            " [0.7494531  0.81218304 0.82514015 0.27571241 0.60432207 0.74113667\n",
            "  0.99998634 0.11634559 0.20868442 0.83133109]\n",
            " [0.26737378 0.23630257 0.83351047 0.48677214 0.0648655  0.10036768\n",
            "  0.2820325  0.93970852 0.38420985 0.85017756]\n",
            " [0.55561675 0.12808842 0.2558781  0.72748019 0.61349629 0.47776379\n",
            "  0.92733586 0.27510676 0.62551532 0.86902958]\n",
            " [0.10200169 0.90003414 0.60762641 0.87820291 0.80287938 0.26792585\n",
            "  0.73471311 0.77395671 0.43208204 0.15423941]\n",
            " [0.32214971 0.67776261 0.71518123 0.10863767 0.3576836  0.10132136\n",
            "  0.35574423 0.87216305 0.21221052 0.09265138]\n",
            " [0.14955423 0.89085315 0.46342589 0.25777242 0.50958198 0.94837268\n",
            "  0.97647271 0.55120393 0.74239093 0.73341201]\n",
            " [0.5267784  0.64885657 0.03091709 0.10580437 0.58797142 0.38559604\n",
            "  0.61441215 0.08970199 0.73423706 0.88976444]\n",
            " [0.27253855 0.86284066 0.4012671  0.03991403 0.57246598 0.77948149\n",
            "  0.74965986 0.05274239 0.58051742 0.32852056]\n",
            " [0.11467411 0.60748841 0.58034442 0.7184552  0.4782416  0.24974189\n",
            "  0.32759954 0.35465488 0.52888433 0.95497394]\n",
            " [0.66864043 0.95037786 0.84218867 0.9279373  0.1883759  0.95994157\n",
            "  0.41229025 0.54806942 0.04480009 0.29250286]\n",
            " [0.68230743 0.33254694 0.33624652 0.70734753 0.67408842 0.83673393\n",
            "  0.10318114 0.19336648 0.83732604 0.27104455]\n",
            " [0.78677584 0.29159536 0.39139047 0.47767831 0.55011248 0.91229188\n",
            "  0.31259736 0.87760103 0.17140793 0.90211818]\n",
            " [0.67257603 0.27329411 0.54124492 0.16654517 0.95995361 0.6886756\n",
            "  0.72772777 0.24750607 0.82785427 0.47883294]]\n",
            "[0.9420736  0.93606453 0.97449383 0.8957882  0.39800364 0.16621083\n",
            " 0.1678252  0.70596226 0.3019593  0.26182493]\n",
            "(32, 10)\n",
            "(10,)\n"
          ]
        }
      ],
      "source": [
        "import numpy as np\n",
        "X = np.random.random((32, 10)) # A matrix with shape(32,10)\n",
        "y = np.random.random((10,))  # A vector with shape(10,)\n",
        "print(X)\n",
        "print(y)\n",
        "print(X.shape)\n",
        "print(y.shape)\n",
        "#print(X+y)"
      ]
    },
    {
      "cell_type": "markdown",
      "source": [
        "# Understanding shape of vector\n"
      ],
      "metadata": {
        "id": "mnuepfLRreIi"
      }
    },
    {
      "cell_type": "code",
      "source": [
        "a=np.array([1,2,3])\n",
        "print(a)\n",
        "print(a.shape)\n",
        "b=np.array([[1,2,3]])\n",
        "print(b)\n",
        "print(b.shape)\n",
        "c=np.array([[1],[2],[3]])\n",
        "print(c)\n",
        "print(c.shape)"
      ],
      "metadata": {
        "colab": {
          "base_uri": "https://localhost:8080/"
        },
        "id": "NPDHpa0orwps",
        "outputId": "e958c255-171e-424a-d860-06276136ad1d"
      },
      "execution_count": null,
      "outputs": [
        {
          "output_type": "stream",
          "name": "stdout",
          "text": [
            "[1 2 3]\n",
            "(3,)\n",
            "[[1 2 3]]\n",
            "(1, 3)\n",
            "[[1]\n",
            " [2]\n",
            " [3]]\n",
            "(3, 1)\n"
          ]
        }
      ]
    },
    {
      "cell_type": "code",
      "execution_count": null,
      "metadata": {
        "id": "PXaFQupG9FgX",
        "colab": {
          "base_uri": "https://localhost:8080/"
        },
        "outputId": "d1f523e3-eac8-4606-fd57-eba7cbd5e0db"
      },
      "outputs": [
        {
          "output_type": "stream",
          "name": "stdout",
          "text": [
            "[[0.9420736  0.93606453 0.97449383 0.8957882  0.39800364 0.16621083\n",
            "  0.1678252  0.70596226 0.3019593  0.26182493]]\n",
            "(1, 10)\n"
          ]
        }
      ],
      "source": [
        "#add empty 1st axis to y at 0 position\n",
        "y = np.expand_dims(y, axis=0) #shape becomes (1,10)\n",
        "print(y)\n",
        "print(y.shape)"
      ]
    },
    {
      "cell_type": "markdown",
      "source": [
        "# Understanding how concatenate method works"
      ],
      "metadata": {
        "id": "uyMObvsXko3o"
      }
    },
    {
      "cell_type": "code",
      "source": [
        "\n",
        "A=np.array([[1,2],[3,4]])\n",
        "B=np.array([[5,6],[7,8]])\n",
        "\n",
        "#A and B are rank-2 tensors,so they both have 2 axes\n",
        "#axis=0 is row,axis=1 is col\n",
        "print(A.shape)\n",
        "print(B.shape)\n"
      ],
      "metadata": {
        "colab": {
          "base_uri": "https://localhost:8080/"
        },
        "id": "kqOxS_TXiKmU",
        "outputId": "b9e64be4-5f7e-4508-f372-2a53b3b4a4be"
      },
      "execution_count": null,
      "outputs": [
        {
          "output_type": "stream",
          "name": "stdout",
          "text": [
            "(2, 2)\n",
            "(2, 2)\n"
          ]
        }
      ]
    },
    {
      "cell_type": "markdown",
      "source": [
        "Concatinating along row (axis=0) should look like this  mathematically\n",
        "\n",
        "$$\n",
        "\\begin{bmatrix}\n",
        "1 & 2 \\\\\n",
        "3 & 4 \\\\\n",
        "5 & 6 \\\\\n",
        "7 &  8\n",
        "\\end{bmatrix}\n",
        "$$\n",
        "\n",
        "So the shape will be (4,2)\n"
      ],
      "metadata": {
        "id": "9Xiq7WDujPDy"
      }
    },
    {
      "cell_type": "code",
      "source": [
        "C=np.concatenate((A,B),axis=0)\n",
        "print(C)\n",
        "print(C.shape)"
      ],
      "metadata": {
        "colab": {
          "base_uri": "https://localhost:8080/"
        },
        "id": "gXjPrDd4kz-m",
        "outputId": "e37e8058-716f-427f-b5ae-01a6e93c17a6"
      },
      "execution_count": null,
      "outputs": [
        {
          "output_type": "stream",
          "name": "stdout",
          "text": [
            "[[1 2]\n",
            " [3 4]\n",
            " [5 6]\n",
            " [7 8]]\n",
            "(4, 2)\n"
          ]
        }
      ]
    },
    {
      "cell_type": "markdown",
      "source": [
        "Concatinating along column (axis=1) should look like this  mathematically\n",
        "\n",
        "$$\n",
        "\\begin{bmatrix}\n",
        "1 & 2 & 5 & 6  \\\\\n",
        "3 & 4 &7 &8\n",
        "\\end{bmatrix}\n",
        "$$\n",
        "\n",
        "So the shape will be (2,4)"
      ],
      "metadata": {
        "id": "YvK8JM09liI0"
      }
    },
    {
      "cell_type": "code",
      "source": [
        "D=np.concatenate((A,B),axis=1)\n",
        "print(D)\n",
        "print(D.shape)"
      ],
      "metadata": {
        "colab": {
          "base_uri": "https://localhost:8080/"
        },
        "id": "DdvP6TgAl6TJ",
        "outputId": "5e343413-98af-4d75-9047-91a9fd440f3c"
      },
      "execution_count": null,
      "outputs": [
        {
          "output_type": "stream",
          "name": "stdout",
          "text": [
            "[[1 2 5 6]\n",
            " [3 4 7 8]]\n",
            "(2, 4)\n"
          ]
        }
      ]
    },
    {
      "cell_type": "markdown",
      "source": [
        "#Continue..."
      ],
      "metadata": {
        "id": "U10wSOydmIR5"
      }
    },
    {
      "cell_type": "code",
      "execution_count": null,
      "metadata": {
        "id": "h5SUYqSH9FgX",
        "colab": {
          "base_uri": "https://localhost:8080/"
        },
        "outputId": "e5379fed-9b3a-4425-98d6-710db08a1647"
      },
      "outputs": [
        {
          "output_type": "stream",
          "name": "stdout",
          "text": [
            "[[0.9420736  0.93606453 0.97449383 0.8957882  0.39800364 0.16621083\n",
            "  0.1678252  0.70596226 0.3019593  0.26182493]\n",
            " [0.9420736  0.93606453 0.97449383 0.8957882  0.39800364 0.16621083\n",
            "  0.1678252  0.70596226 0.3019593  0.26182493]\n",
            " [0.9420736  0.93606453 0.97449383 0.8957882  0.39800364 0.16621083\n",
            "  0.1678252  0.70596226 0.3019593  0.26182493]\n",
            " [0.9420736  0.93606453 0.97449383 0.8957882  0.39800364 0.16621083\n",
            "  0.1678252  0.70596226 0.3019593  0.26182493]\n",
            " [0.9420736  0.93606453 0.97449383 0.8957882  0.39800364 0.16621083\n",
            "  0.1678252  0.70596226 0.3019593  0.26182493]\n",
            " [0.9420736  0.93606453 0.97449383 0.8957882  0.39800364 0.16621083\n",
            "  0.1678252  0.70596226 0.3019593  0.26182493]\n",
            " [0.9420736  0.93606453 0.97449383 0.8957882  0.39800364 0.16621083\n",
            "  0.1678252  0.70596226 0.3019593  0.26182493]\n",
            " [0.9420736  0.93606453 0.97449383 0.8957882  0.39800364 0.16621083\n",
            "  0.1678252  0.70596226 0.3019593  0.26182493]\n",
            " [0.9420736  0.93606453 0.97449383 0.8957882  0.39800364 0.16621083\n",
            "  0.1678252  0.70596226 0.3019593  0.26182493]\n",
            " [0.9420736  0.93606453 0.97449383 0.8957882  0.39800364 0.16621083\n",
            "  0.1678252  0.70596226 0.3019593  0.26182493]\n",
            " [0.9420736  0.93606453 0.97449383 0.8957882  0.39800364 0.16621083\n",
            "  0.1678252  0.70596226 0.3019593  0.26182493]\n",
            " [0.9420736  0.93606453 0.97449383 0.8957882  0.39800364 0.16621083\n",
            "  0.1678252  0.70596226 0.3019593  0.26182493]\n",
            " [0.9420736  0.93606453 0.97449383 0.8957882  0.39800364 0.16621083\n",
            "  0.1678252  0.70596226 0.3019593  0.26182493]\n",
            " [0.9420736  0.93606453 0.97449383 0.8957882  0.39800364 0.16621083\n",
            "  0.1678252  0.70596226 0.3019593  0.26182493]\n",
            " [0.9420736  0.93606453 0.97449383 0.8957882  0.39800364 0.16621083\n",
            "  0.1678252  0.70596226 0.3019593  0.26182493]\n",
            " [0.9420736  0.93606453 0.97449383 0.8957882  0.39800364 0.16621083\n",
            "  0.1678252  0.70596226 0.3019593  0.26182493]\n",
            " [0.9420736  0.93606453 0.97449383 0.8957882  0.39800364 0.16621083\n",
            "  0.1678252  0.70596226 0.3019593  0.26182493]\n",
            " [0.9420736  0.93606453 0.97449383 0.8957882  0.39800364 0.16621083\n",
            "  0.1678252  0.70596226 0.3019593  0.26182493]\n",
            " [0.9420736  0.93606453 0.97449383 0.8957882  0.39800364 0.16621083\n",
            "  0.1678252  0.70596226 0.3019593  0.26182493]\n",
            " [0.9420736  0.93606453 0.97449383 0.8957882  0.39800364 0.16621083\n",
            "  0.1678252  0.70596226 0.3019593  0.26182493]\n",
            " [0.9420736  0.93606453 0.97449383 0.8957882  0.39800364 0.16621083\n",
            "  0.1678252  0.70596226 0.3019593  0.26182493]\n",
            " [0.9420736  0.93606453 0.97449383 0.8957882  0.39800364 0.16621083\n",
            "  0.1678252  0.70596226 0.3019593  0.26182493]\n",
            " [0.9420736  0.93606453 0.97449383 0.8957882  0.39800364 0.16621083\n",
            "  0.1678252  0.70596226 0.3019593  0.26182493]\n",
            " [0.9420736  0.93606453 0.97449383 0.8957882  0.39800364 0.16621083\n",
            "  0.1678252  0.70596226 0.3019593  0.26182493]\n",
            " [0.9420736  0.93606453 0.97449383 0.8957882  0.39800364 0.16621083\n",
            "  0.1678252  0.70596226 0.3019593  0.26182493]\n",
            " [0.9420736  0.93606453 0.97449383 0.8957882  0.39800364 0.16621083\n",
            "  0.1678252  0.70596226 0.3019593  0.26182493]\n",
            " [0.9420736  0.93606453 0.97449383 0.8957882  0.39800364 0.16621083\n",
            "  0.1678252  0.70596226 0.3019593  0.26182493]\n",
            " [0.9420736  0.93606453 0.97449383 0.8957882  0.39800364 0.16621083\n",
            "  0.1678252  0.70596226 0.3019593  0.26182493]\n",
            " [0.9420736  0.93606453 0.97449383 0.8957882  0.39800364 0.16621083\n",
            "  0.1678252  0.70596226 0.3019593  0.26182493]\n",
            " [0.9420736  0.93606453 0.97449383 0.8957882  0.39800364 0.16621083\n",
            "  0.1678252  0.70596226 0.3019593  0.26182493]\n",
            " [0.9420736  0.93606453 0.97449383 0.8957882  0.39800364 0.16621083\n",
            "  0.1678252  0.70596226 0.3019593  0.26182493]\n",
            " [0.9420736  0.93606453 0.97449383 0.8957882  0.39800364 0.16621083\n",
            "  0.1678252  0.70596226 0.3019593  0.26182493]]\n",
            "(32, 10)\n",
            "(32, 10)\n"
          ]
        }
      ],
      "source": [
        "Y = np.concatenate([y] * 32, axis=0) #repeat y 32 times along new axis\n",
        "#shape of y is (1,10), we have to make to (32,10)\n",
        "print(Y)\n",
        "print(Y.shape)\n",
        "#now we can add\n",
        "output=X+Y\n",
        "print(output.shape)"
      ]
    },
    {
      "cell_type": "markdown",
      "source": [
        "#implementing the above thing from scratch\n"
      ],
      "metadata": {
        "id": "-bpEvJ9W9FgX"
      }
    },
    {
      "cell_type": "code",
      "source": [
        "def naive_add_matrix_and_vector(x, y):\n",
        "    assert len(x.shape) == 2\n",
        "    assert len(y.shape) == 1\n",
        "    assert x.shape[1] == y.shape[0]\n",
        "    x = x.copy()\n",
        "    for i in range(x.shape[0]):\n",
        "        for j in range(x.shape[1]):\n",
        "            x[i, j] += y[j]\n",
        "    return x"
      ],
      "metadata": {
        "id": "oiaFTWd2slUn"
      },
      "execution_count": null,
      "outputs": []
    },
    {
      "cell_type": "code",
      "source": [
        "A=np.random.random((2,3))\n",
        "print(A)\n",
        "B=np.random.random((3))\n",
        "print(B)\n",
        "print(A+B)\n",
        "C=naive_add_matrix_and_vector(A,B)\n",
        "print(C)\n",
        "print(A.shape,B.shape,C.shape)"
      ],
      "metadata": {
        "colab": {
          "base_uri": "https://localhost:8080/"
        },
        "id": "zaKxFryNsxeT",
        "outputId": "140e8864-0652-4c47-a0ff-045599638f1b"
      },
      "execution_count": null,
      "outputs": [
        {
          "output_type": "stream",
          "name": "stdout",
          "text": [
            "[[0.61752281 0.98564994 0.69844893]\n",
            " [0.21593433 0.52806516 0.45152634]]\n",
            "[0.41522298 0.31790394 0.89089427]\n",
            "[[1.03274579 1.30355388 1.5893432 ]\n",
            " [0.63115731 0.8459691  1.34242061]]\n",
            "[[1.03274579 1.30355388 1.5893432 ]\n",
            " [0.63115731 0.8459691  1.34242061]]\n",
            "(2, 3) (3,) (2, 3)\n"
          ]
        }
      ]
    },
    {
      "cell_type": "markdown",
      "source": [
        "# Understanding braodacasting(self)"
      ],
      "metadata": {
        "id": "aapjv0ZjxK7w"
      }
    },
    {
      "cell_type": "code",
      "source": [
        "A=np.random.random((2,3))\n",
        "print(\"A=\",A)\n",
        "B=np.random.random((3,))\n",
        "print(\"B=\",B)\n",
        "\n",
        "print(\"A+B=\",A+B)\n",
        "C=np.random.random((1,3))\n",
        "print(\"C=\",C)\n",
        "print(\"A+C=\", A+C)\n",
        "\n",
        "D=np.random.random((4,))\n",
        "try:\n",
        "  print(A+D)\n",
        "except:\n",
        "  print (\"A+D is not possible\")"
      ],
      "metadata": {
        "colab": {
          "base_uri": "https://localhost:8080/"
        },
        "id": "9GUp9kSfxS43",
        "outputId": "b3d17795-ee6c-4847-81ab-ad12b3d529f2"
      },
      "execution_count": null,
      "outputs": [
        {
          "output_type": "stream",
          "name": "stdout",
          "text": [
            "A= [[0.44276154 0.11086244 0.67178744]\n",
            " [0.26466397 0.6971117  0.85467665]]\n",
            "B= [0.47254343 0.18657992 0.30797894]\n",
            "A+B= [[0.91530497 0.29744237 0.97976638]\n",
            " [0.73720741 0.88369162 1.16265559]]\n",
            "C= [[0.98043509 0.42883548 0.48934183]]\n",
            "A+C= [[1.42319663 0.53969793 1.16112928]\n",
            " [1.24509906 1.12594718 1.34401849]]\n",
            "A+D is not possible\n"
          ]
        }
      ]
    },
    {
      "cell_type": "markdown",
      "source": [
        "# Continue"
      ],
      "metadata": {
        "id": "A6pED_q-z9mO"
      }
    },
    {
      "cell_type": "code",
      "execution_count": null,
      "metadata": {
        "id": "q4L84uIl9FgY",
        "colab": {
          "base_uri": "https://localhost:8080/"
        },
        "outputId": "83dd43df-e484-4a08-d97c-a0372aae86b2"
      },
      "outputs": [
        {
          "output_type": "stream",
          "name": "stdout",
          "text": [
            "(64, 3, 32, 10)\n"
          ]
        }
      ],
      "source": [
        "import numpy as np\n",
        "x = np.random.random((64, 3, 32, 10))\n",
        "y = np.random.random((32, 10))\n",
        "z = np.maximum(x, y)\n",
        "print(z.shape)\n",
        "# y = np.random.random((10))\n"
      ]
    },
    {
      "cell_type": "markdown",
      "metadata": {
        "id": "k0pcksxZ9FgY"
      },
      "source": [
        "### Tensor product"
      ]
    },
    {
      "cell_type": "code",
      "execution_count": null,
      "metadata": {
        "id": "SC4sVuFe9FgY"
      },
      "outputs": [],
      "source": [
        "x = np.random.random((32,))\n",
        "y = np.random.random((32,))\n",
        "z = np.dot(x, y)"
      ]
    },
    {
      "cell_type": "code",
      "source": [
        "print(z)\n",
        "print(z.shape)\n",
        "print(type(z))"
      ],
      "metadata": {
        "colab": {
          "base_uri": "https://localhost:8080/"
        },
        "id": "PdOERYfXc6vz",
        "outputId": "82add20e-59c9-4b4a-a46a-cea33e7a68a3"
      },
      "execution_count": null,
      "outputs": [
        {
          "output_type": "stream",
          "name": "stdout",
          "text": [
            "10.247713453330181\n",
            "()\n",
            "<class 'numpy.float64'>\n"
          ]
        }
      ]
    },
    {
      "cell_type": "code",
      "execution_count": null,
      "metadata": {
        "id": "lHc1VCHq9FgY"
      },
      "outputs": [],
      "source": [
        "def naive_vector_dot(x, y):\n",
        "    assert len(x.shape) == 1\n",
        "    assert len(y.shape) == 1\n",
        "    assert x.shape[0] == y.shape[0]\n",
        "    z = 0.\n",
        "    for i in range(x.shape[0]):\n",
        "        z += x[i] * y[i]\n",
        "    return z"
      ]
    },
    {
      "cell_type": "code",
      "source": [
        "x=np.array([1,2,3])\n",
        "y=np.array([4,5,6])\n",
        "z=naive_vector_dot(x,y)\n",
        "print(z)\n",
        "\n"
      ],
      "metadata": {
        "colab": {
          "base_uri": "https://localhost:8080/"
        },
        "id": "CXVFq2uAdyQa",
        "outputId": "dd87be8e-678f-41c4-96aa-a27db171df3e"
      },
      "execution_count": null,
      "outputs": [
        {
          "output_type": "stream",
          "name": "stdout",
          "text": [
            "32.0\n"
          ]
        }
      ]
    },
    {
      "cell_type": "code",
      "execution_count": null,
      "metadata": {
        "id": "MTEbKqcL9FgY"
      },
      "outputs": [],
      "source": [
        "def naive_matrix_vector_dot(x, y):\n",
        "    assert len(x.shape) == 2\n",
        "    assert len(y.shape) == 1\n",
        "    assert x.shape[1] == y.shape[0]\n",
        "    z = np.zeros(x.shape[0])\n",
        "    for i in range(x.shape[0]):\n",
        "        for j in range(x.shape[1]):\n",
        "            z[i] += x[i, j] * y[j]\n",
        "    return z"
      ]
    },
    {
      "cell_type": "code",
      "source": [
        "#Dot product between a matrix and a vector(row-wise)\n",
        "\n",
        "a=np.array([[1,2,3],[4,5,6]])\n",
        "print('a=',a)\n",
        "print('b=',b)\n",
        "b=np.array([1,2,3])\n",
        "c=np.dot(a,b)\n",
        "print('c=',c)\n",
        "print(np.shape(a))\n",
        "print(np.shape(b))\n",
        "print(np.shape(c))\n",
        "\n",
        "#Dot product between two compatible matrices\n",
        "mat_a=np.array([[1,2,3],[4,5,6]])\n",
        "print(mat_a)\n",
        "\n",
        "mat_b=np.array([[1,2,3,4],[5,6,7,8],[9,10,11,12]])\n",
        "print(mat_b)\n",
        "\n",
        "print(np.dot(mat_a,mat_b))\n"
      ],
      "metadata": {
        "colab": {
          "base_uri": "https://localhost:8080/"
        },
        "id": "A14OAoIBjAKS",
        "outputId": "94e12a00-10ea-4f60-c99c-437d638da1ff"
      },
      "execution_count": null,
      "outputs": [
        {
          "output_type": "stream",
          "name": "stdout",
          "text": [
            "a= [[1 2 3]\n",
            " [4 5 6]]\n",
            "b= [[1 2 3]]\n",
            "c= [14 32]\n",
            "(2, 3)\n",
            "(3,)\n",
            "(2,)\n",
            "[[1 2 3]\n",
            " [4 5 6]]\n",
            "[[ 1  2  3  4]\n",
            " [ 5  6  7  8]\n",
            " [ 9 10 11 12]]\n",
            "[[ 38  44  50  56]\n",
            " [ 83  98 113 128]]\n"
          ]
        }
      ]
    },
    {
      "cell_type": "code",
      "source": [
        "z=np.zeros(2)\n",
        "print(z)"
      ],
      "metadata": {
        "colab": {
          "base_uri": "https://localhost:8080/"
        },
        "id": "BwiOmBPfpJnp",
        "outputId": "0f0306db-54fb-447f-ad73-e7b4a685efd9"
      },
      "execution_count": null,
      "outputs": [
        {
          "output_type": "stream",
          "name": "stdout",
          "text": [
            "[0. 0.]\n"
          ]
        }
      ]
    },
    {
      "cell_type": "code",
      "execution_count": null,
      "metadata": {
        "id": "Gd7jpg_f9FgY"
      },
      "outputs": [],
      "source": [
        "def naive_matrix_vector_dot(x, y):\n",
        "    z = np.zeros(x.shape[0])\n",
        "    for i in range(x.shape[0]):\n",
        "        z[i] = naive_vector_dot(x[i, :], y)\n",
        "    return z\n"
      ]
    },
    {
      "cell_type": "code",
      "source": [
        "print(naive_matrix_vector_dot(a,b))\n"
      ],
      "metadata": {
        "colab": {
          "base_uri": "https://localhost:8080/"
        },
        "id": "X6G1yffmp00m",
        "outputId": "365248a2-e764-4a9e-e425-b97d2eebb02e"
      },
      "execution_count": null,
      "outputs": [
        {
          "output_type": "stream",
          "name": "stdout",
          "text": [
            "[14. 32.]\n"
          ]
        }
      ]
    },
    {
      "cell_type": "code",
      "execution_count": null,
      "metadata": {
        "id": "FPLOxN0C9FgZ"
      },
      "outputs": [],
      "source": [
        "def naive_matrix_dot(x, y):\n",
        "    assert len(x.shape) == 2  #x and y are Numpy matrices\n",
        "    assert len(y.shape) == 2\n",
        "    assert x.shape[1] == y.shape[0]\n",
        "    z = np.zeros((x.shape[0], y.shape[1]))\n",
        "    for i in range(x.shape[0]):\n",
        "        for j in range(y.shape[1]):\n",
        "            row_x = x[i, :]\n",
        "            column_y = y[:, j]\n",
        "            z[i, j] = naive_vector_dot(row_x, column_y)\n",
        "    return z"
      ]
    },
    {
      "cell_type": "code",
      "source": [
        "a=np.random.random((2,3))\n",
        "b=np.random.random((3,4))\n",
        "mat_mult=naive_matrix_dot(a,b)\n",
        "print(mat_mult)\n",
        "print(mat_mult.shape)"
      ],
      "metadata": {
        "id": "9CDKptRjuL6w",
        "colab": {
          "base_uri": "https://localhost:8080/"
        },
        "outputId": "6c2452d7-a128-4cbf-ae59-5eb03e4af7aa"
      },
      "execution_count": null,
      "outputs": [
        {
          "output_type": "stream",
          "name": "stdout",
          "text": [
            "[[0.77104749 0.56895225 0.15162422 0.67238468]\n",
            " [0.82465146 0.27478446 0.58899834 0.50050059]]\n",
            "(2, 4)\n"
          ]
        }
      ]
    },
    {
      "cell_type": "markdown",
      "metadata": {
        "id": "H4sK9vD09FgZ"
      },
      "source": [
        "### Tensor reshaping"
      ]
    },
    {
      "cell_type": "code",
      "execution_count": null,
      "metadata": {
        "id": "z7ny-RGR9FgZ"
      },
      "outputs": [],
      "source": [
        "train_images = train_images.reshape((60000, 28 * 28))"
      ]
    },
    {
      "cell_type": "code",
      "execution_count": null,
      "metadata": {
        "id": "4oJQ7RT_9FgZ",
        "colab": {
          "base_uri": "https://localhost:8080/"
        },
        "outputId": "9ba28b61-709f-4a2a-a61f-96e3e8487cbf"
      },
      "outputs": [
        {
          "output_type": "execute_result",
          "data": {
            "text/plain": [
              "(3, 2)"
            ]
          },
          "metadata": {},
          "execution_count": 68
        }
      ],
      "source": [
        "x = np.array([[0., 1.],\n",
        "             [2., 3.],\n",
        "             [4., 5.]])\n",
        "x.shape"
      ]
    },
    {
      "cell_type": "code",
      "execution_count": null,
      "metadata": {
        "id": "uSfHmQ979FgZ",
        "colab": {
          "base_uri": "https://localhost:8080/"
        },
        "outputId": "7ad5a1c1-6c90-47a8-c62d-48f68ee0cf7c"
      },
      "outputs": [
        {
          "output_type": "execute_result",
          "data": {
            "text/plain": [
              "array([[0.],\n",
              "       [1.],\n",
              "       [2.],\n",
              "       [3.],\n",
              "       [4.],\n",
              "       [5.]])"
            ]
          },
          "metadata": {},
          "execution_count": 69
        }
      ],
      "source": [
        "x = x.reshape((6, 1))\n",
        "x"
      ]
    },
    {
      "cell_type": "code",
      "execution_count": null,
      "metadata": {
        "id": "8vcBB1Sn9Fga",
        "colab": {
          "base_uri": "https://localhost:8080/"
        },
        "outputId": "1d67b442-b0bd-4dad-9121-1b3c89744886"
      },
      "outputs": [
        {
          "output_type": "execute_result",
          "data": {
            "text/plain": [
              "(20, 300)"
            ]
          },
          "metadata": {},
          "execution_count": 70
        }
      ],
      "source": [
        "x = np.zeros((300, 20))\n",
        "x = np.transpose(x)\n",
        "x.shape"
      ]
    },
    {
      "cell_type": "markdown",
      "metadata": {
        "id": "EKgqRx8L9Fga"
      },
      "source": [
        "### Geometric interpretation of tensor operations"
      ]
    },
    {
      "cell_type": "markdown",
      "metadata": {
        "id": "fHUS-P4U9Fga"
      },
      "source": [
        "### A geometric interpretation of deep learning"
      ]
    },
    {
      "cell_type": "markdown",
      "metadata": {
        "id": "rhP8oSoF9Fga"
      },
      "source": [
        "## The engine of neural networks: gradient-based optimization"
      ]
    },
    {
      "cell_type": "markdown",
      "metadata": {
        "id": "0xhKynch9Fga"
      },
      "source": [
        "### What's a derivative?"
      ]
    },
    {
      "cell_type": "markdown",
      "metadata": {
        "id": "B4mc5GZm9Fga"
      },
      "source": [
        "### Derivative of a tensor operation: the gradient"
      ]
    },
    {
      "cell_type": "markdown",
      "metadata": {
        "id": "-LSoiCRl9Fgb"
      },
      "source": [
        "### Stochastic gradient descent"
      ]
    },
    {
      "cell_type": "markdown",
      "metadata": {
        "id": "9ntxsx-H9Fgb"
      },
      "source": [
        "### Chaining derivatives: The Backpropagation algorithm"
      ]
    },
    {
      "cell_type": "markdown",
      "metadata": {
        "id": "Bk-HHOhU9Fgb"
      },
      "source": [
        "#### The chain rule"
      ]
    },
    {
      "cell_type": "markdown",
      "metadata": {
        "id": "_6t7zFP69Fgb"
      },
      "source": [
        "#### Automatic differentiation with computation graphs"
      ]
    },
    {
      "cell_type": "markdown",
      "metadata": {
        "id": "nxrZ4pzR9Fgb"
      },
      "source": [
        "#### The gradient tape in TensorFlow"
      ]
    },
    {
      "cell_type": "code",
      "execution_count": null,
      "metadata": {
        "id": "Oy9JiseK9Fgb",
        "colab": {
          "base_uri": "https://localhost:8080/"
        },
        "outputId": "69ec7486-a346-471e-8a10-b65bfa9ee7fa"
      },
      "outputs": [
        {
          "output_type": "stream",
          "name": "stdout",
          "text": [
            "tf.Tensor(2.0, shape=(), dtype=float32)\n"
          ]
        }
      ],
      "source": [
        "import tensorflow as tf\n",
        "x = tf.Variable(0.) #A tensor to hold mutable  state(weights),intialized with 0\n",
        "# print(x)\n",
        "# print(x.shape)\n",
        "with tf.GradientTape() as tape: # GradientTape works with tensor operations\n",
        "    y = 2 * x + 3\n",
        "grad_of_y_wrt_x = tape.gradient(y, x) # retrive the gradient y with respect to x\n",
        "print(grad_of_y_wrt_x)"
      ]
    },
    {
      "cell_type": "code",
      "execution_count": null,
      "metadata": {
        "id": "xDCY69HQ9Fgc",
        "colab": {
          "base_uri": "https://localhost:8080/"
        },
        "outputId": "0cc8d79f-eab2-4cbd-df84-7dc2ad7562a5"
      },
      "outputs": [
        {
          "output_type": "stream",
          "name": "stdout",
          "text": [
            "<tf.Variable 'Variable:0' shape=(2, 2) dtype=float32, numpy=\n",
            "array([[0.86879027, 0.00928855],\n",
            "       [0.96839905, 0.3715328 ]], dtype=float32)>\n"
          ]
        }
      ],
      "source": [
        "x = tf.Variable(tf.random.uniform((2, 2)))\n",
        "print(x)\n",
        "with tf.GradientTape() as tape:\n",
        "    y = 2 * x + 3\n",
        "grad_of_y_wrt_x = tape.gradient(y, x)"
      ]
    },
    {
      "cell_type": "code",
      "execution_count": null,
      "metadata": {
        "id": "3Y9uv7D_9Fgc",
        "colab": {
          "base_uri": "https://localhost:8080/"
        },
        "outputId": "6dccf6b8-185e-403b-cf41-7d2c3f956e77"
      },
      "outputs": [
        {
          "output_type": "stream",
          "name": "stdout",
          "text": [
            "<tf.Variable 'Variable:0' shape=(2, 2) dtype=float32, numpy=\n",
            "array([[0.09675097, 0.4910121 ],\n",
            "       [0.3470751 , 0.9965428 ]], dtype=float32)>\n",
            "<tf.Variable 'Variable:0' shape=(2,) dtype=float32, numpy=array([0., 0.], dtype=float32)>\n",
            "tf.Tensor(\n",
            "[[0.9243605  0.20600975]\n",
            " [0.11467183 0.5572492 ]], shape=(2, 2), dtype=float32)\n",
            "tf.Tensor(\n",
            "[[0.16093364 0.65916973]\n",
            " [0.20450194 0.6116279 ]], shape=(2, 2), dtype=float32)\n",
            "[<tf.Tensor: shape=(2, 2), dtype=float32, numpy=\n",
            "array([[1.0390323 , 1.0390323 ],\n",
            "       [0.76325893, 0.76325893]], dtype=float32)>, <tf.Tensor: shape=(2,), dtype=float32, numpy=array([2., 2.], dtype=float32)>]\n"
          ]
        }
      ],
      "source": [
        "W = tf.Variable(tf.random.uniform((2, 2)))\n",
        "print(W)\n",
        "b = tf.Variable(tf.zeros((2,)))\n",
        "print(b)\n",
        "x = tf.random.uniform((2, 2))\n",
        "print(x)\n",
        "with tf.GradientTape() as tape:\n",
        "    y = tf.matmul(x, W) + b #b has been broadcasted. column-wise addition to\n",
        "    #the 2x2 matrix\n",
        "print(y)\n",
        "grad_of_y_wrt_W_and_b = tape.gradient(y, [W, b])\n",
        "print(grad_of_y_wrt_W_and_b)"
      ]
    },
    {
      "cell_type": "markdown",
      "metadata": {
        "id": "pZBV_-WC9Fgc"
      },
      "source": [
        "## Looking back at our first example"
      ]
    },
    {
      "cell_type": "code",
      "execution_count": null,
      "metadata": {
        "id": "EREb1IbK9Fgc"
      },
      "outputs": [],
      "source": [
        "(train_images, train_labels), (test_images, test_labels) = mnist.load_data()\n",
        "train_images = train_images.reshape((60000, 28 * 28))\n",
        "train_images = train_images.astype(\"float32\") / 255\n",
        "test_images = test_images.reshape((10000, 28 * 28))\n",
        "test_images = test_images.astype(\"float32\") / 255"
      ]
    },
    {
      "cell_type": "code",
      "execution_count": null,
      "metadata": {
        "id": "u7zCbtsk9Fgd"
      },
      "outputs": [],
      "source": [
        "model = keras.Sequential([\n",
        "    layers.Dense(512, activation=\"relu\"),\n",
        "    layers.Dense(10, activation=\"softmax\")\n",
        "])"
      ]
    },
    {
      "cell_type": "code",
      "execution_count": null,
      "metadata": {
        "id": "hS-x2mzT9Fgd"
      },
      "outputs": [],
      "source": [
        "model.compile(optimizer=\"rmsprop\",\n",
        "              loss=\"sparse_categorical_crossentropy\",\n",
        "              metrics=[\"accuracy\"])"
      ]
    },
    {
      "cell_type": "code",
      "execution_count": null,
      "metadata": {
        "id": "dS9Un-Z89Fgd"
      },
      "outputs": [],
      "source": [
        "model.fit(train_images, train_labels, epochs=5, batch_size=128)"
      ]
    },
    {
      "cell_type": "markdown",
      "metadata": {
        "id": "4CyyOcis9Fgd"
      },
      "source": [
        "### Reimplementing our first example from scratch in TensorFlow"
      ]
    },
    {
      "cell_type": "markdown",
      "metadata": {
        "id": "8q1U4LPJ9Fgd"
      },
      "source": [
        "#### A simple Dense class"
      ]
    },
    {
      "cell_type": "code",
      "execution_count": null,
      "metadata": {
        "id": "pj9lAqkc9Fgd"
      },
      "outputs": [],
      "source": [
        "import tensorflow as tf\n",
        "\n",
        "class NaiveDense:\n",
        "    def __init__(self, input_size, output_size, activation):\n",
        "        self.activation = activation\n",
        "\n",
        "        w_shape = (input_size, output_size)\n",
        "        w_initial_value = tf.random.uniform(w_shape, minval=0, maxval=1e-1)\n",
        "        self.W = tf.Variable(w_initial_value)\n",
        "\n",
        "        b_shape = (output_size,)\n",
        "        b_initial_value = tf.zeros(b_shape)\n",
        "        self.b = tf.Variable(b_initial_value)\n",
        "\n",
        "    def __call__(self, inputs):\n",
        "        return self.activation(tf.matmul(inputs, self.W) + self.b)\n",
        "\n",
        "    @property\n",
        "    def weights(self):\n",
        "        return [self.W, self.b]"
      ]
    },
    {
      "cell_type": "markdown",
      "metadata": {
        "id": "MGGswz4U9Fge"
      },
      "source": [
        "#### A simple Sequential class"
      ]
    },
    {
      "cell_type": "code",
      "execution_count": null,
      "metadata": {
        "id": "Io5LrzWe9Fge"
      },
      "outputs": [],
      "source": [
        "class NaiveSequential:\n",
        "    def __init__(self, layers):\n",
        "        self.layers = layers\n",
        "\n",
        "    def __call__(self, inputs):\n",
        "        x = inputs\n",
        "        for layer in self.layers:\n",
        "           x = layer(x)\n",
        "        return x\n",
        "\n",
        "    @property\n",
        "    def weights(self):\n",
        "       weights = []\n",
        "       for layer in self.layers:\n",
        "           weights += layer.weights\n",
        "       return weights"
      ]
    },
    {
      "cell_type": "code",
      "execution_count": null,
      "metadata": {
        "id": "YlXqTdy89Fge"
      },
      "outputs": [],
      "source": [
        "model = NaiveSequential([\n",
        "    NaiveDense(input_size=28 * 28, output_size=512, activation=tf.nn.relu),\n",
        "    NaiveDense(input_size=512, output_size=10, activation=tf.nn.softmax)\n",
        "])\n",
        "assert len(model.weights) == 4"
      ]
    },
    {
      "cell_type": "markdown",
      "metadata": {
        "id": "SPi7IrMe9Fge"
      },
      "source": [
        "#### A batch generator"
      ]
    },
    {
      "cell_type": "code",
      "execution_count": null,
      "metadata": {
        "id": "sbLx4QKI9Fge"
      },
      "outputs": [],
      "source": [
        "import math\n",
        "\n",
        "class BatchGenerator:\n",
        "    def __init__(self, images, labels, batch_size=128):\n",
        "        assert len(images) == len(labels)\n",
        "        self.index = 0\n",
        "        self.images = images\n",
        "        self.labels = labels\n",
        "        self.batch_size = batch_size\n",
        "        self.num_batches = math.ceil(len(images) / batch_size)\n",
        "\n",
        "    def next(self):\n",
        "        images = self.images[self.index : self.index + self.batch_size]\n",
        "        labels = self.labels[self.index : self.index + self.batch_size]\n",
        "        self.index += self.batch_size\n",
        "        return images, labels"
      ]
    },
    {
      "cell_type": "markdown",
      "metadata": {
        "id": "gTgLqKLL9Fge"
      },
      "source": [
        "### Running one training step"
      ]
    },
    {
      "cell_type": "code",
      "execution_count": null,
      "metadata": {
        "id": "O7uw0rYN9Fgf"
      },
      "outputs": [],
      "source": [
        "def one_training_step(model, images_batch, labels_batch):\n",
        "    with tf.GradientTape() as tape:\n",
        "        predictions = model(images_batch)\n",
        "        per_sample_losses = tf.keras.losses.sparse_categorical_crossentropy(\n",
        "            labels_batch, predictions)\n",
        "        average_loss = tf.reduce_mean(per_sample_losses)\n",
        "    gradients = tape.gradient(average_loss, model.weights)\n",
        "    update_weights(gradients, model.weights)\n",
        "    return average_loss"
      ]
    },
    {
      "cell_type": "code",
      "execution_count": null,
      "metadata": {
        "id": "2BLJ7w389Fgf"
      },
      "outputs": [],
      "source": [
        "learning_rate = 1e-3\n",
        "\n",
        "def update_weights(gradients, weights):\n",
        "    for g, w in zip(gradients, weights):\n",
        "        w.assign_sub(g * learning_rate)"
      ]
    },
    {
      "cell_type": "code",
      "execution_count": null,
      "metadata": {
        "id": "OVeu7fOJ9Fgf"
      },
      "outputs": [],
      "source": [
        "from tensorflow.keras import optimizers\n",
        "\n",
        "optimizer = optimizers.SGD(learning_rate=1e-3)\n",
        "\n",
        "def update_weights(gradients, weights):\n",
        "    optimizer.apply_gradients(zip(gradients, weights))"
      ]
    },
    {
      "cell_type": "markdown",
      "metadata": {
        "id": "hg0YzMpi9Fgf"
      },
      "source": [
        "### The full training loop"
      ]
    },
    {
      "cell_type": "code",
      "execution_count": null,
      "metadata": {
        "id": "UJCZwiD29Fgf"
      },
      "outputs": [],
      "source": [
        "def fit(model, images, labels, epochs, batch_size=128):\n",
        "    for epoch_counter in range(epochs):\n",
        "        print(f\"Epoch {epoch_counter}\")\n",
        "        batch_generator = BatchGenerator(images, labels)\n",
        "        for batch_counter in range(batch_generator.num_batches):\n",
        "            images_batch, labels_batch = batch_generator.next()\n",
        "            loss = one_training_step(model, images_batch, labels_batch)\n",
        "            if batch_counter % 100 == 0:\n",
        "                print(f\"loss at batch {batch_counter}: {loss:.2f}\")"
      ]
    },
    {
      "cell_type": "code",
      "execution_count": null,
      "metadata": {
        "id": "hV55WXia9Fgg"
      },
      "outputs": [],
      "source": [
        "from tensorflow.keras.datasets import mnist\n",
        "(train_images, train_labels), (test_images, test_labels) = mnist.load_data()\n",
        "\n",
        "train_images = train_images.reshape((60000, 28 * 28))\n",
        "train_images = train_images.astype(\"float32\") / 255\n",
        "test_images = test_images.reshape((10000, 28 * 28))\n",
        "test_images = test_images.astype(\"float32\") / 255\n",
        "\n",
        "fit(model, train_images, train_labels, epochs=10, batch_size=128)"
      ]
    },
    {
      "cell_type": "markdown",
      "metadata": {
        "id": "ECk-jOGV9Fgg"
      },
      "source": [
        "### Evaluating the model"
      ]
    },
    {
      "cell_type": "code",
      "execution_count": null,
      "metadata": {
        "id": "xq7YFItq9Fgg"
      },
      "outputs": [],
      "source": [
        "predictions = model(test_images)\n",
        "predictions = predictions.numpy()\n",
        "predicted_labels = np.argmax(predictions, axis=1)\n",
        "matches = predicted_labels == test_labels\n",
        "print(f\"accuracy: {matches.mean():.2f}\")"
      ]
    },
    {
      "cell_type": "markdown",
      "metadata": {
        "id": "T7zH4oxv9Fgg"
      },
      "source": [
        "## Summary"
      ]
    }
  ],
  "metadata": {
    "colab": {
      "provenance": [],
      "gpuType": "T4",
      "collapsed_sections": [
        "mnuepfLRreIi",
        "uyMObvsXko3o",
        "aapjv0ZjxK7w",
        "rhP8oSoF9Fga",
        "4CyyOcis9Fgd"
      ],
      "include_colab_link": true
    },
    "kernelspec": {
      "display_name": "Python 3",
      "name": "python3"
    },
    "language_info": {
      "codemirror_mode": {
        "name": "ipython",
        "version": 3
      },
      "file_extension": ".py",
      "mimetype": "text/x-python",
      "name": "python",
      "nbconvert_exporter": "python",
      "pygments_lexer": "ipython3",
      "version": "3.7.0"
    },
    "accelerator": "GPU"
  },
  "nbformat": 4,
  "nbformat_minor": 0
}